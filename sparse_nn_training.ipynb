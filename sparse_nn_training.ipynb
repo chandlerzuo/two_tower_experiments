{
 "cells": [
  {
   "cell_type": "code",
   "execution_count": 1,
   "id": "d7bfdcc4",
   "metadata": {},
   "outputs": [
    {
     "name": "stderr",
     "output_type": "stream",
     "text": [
      "DEBUG:root:test\n"
     ]
    }
   ],
   "source": [
    "import logging\n",
    "logger = logging.getLogger()\n",
    "logger.setLevel(logging.DEBUG)\n",
    "logging.debug(\"test\")"
   ]
  },
  {
   "cell_type": "code",
   "execution_count": 2,
   "id": "23052d5d",
   "metadata": {},
   "outputs": [],
   "source": [
    "from data import (\n",
    "    DataSetSplit,\n",
    "    FeatureConfig,\n",
    "    FloatFeatureConfig,\n",
    "    IdListFeatureConfig,\n",
    "    SyntheticDataset,\n",
    "    collate_fn\n",
    ")\n",
    "\n",
    "feature_config = FeatureConfig(\n",
    "    user_id_list_features = [\n",
    "        IdListFeatureConfig(\n",
    "            fid = 2,\n",
    "            num_embeddings = 1001,\n",
    "            embedding_dim = 64,\n",
    "        ),\n",
    "        IdListFeatureConfig(\n",
    "            fid = 4,\n",
    "            num_embeddings = 10001,\n",
    "            embedding_dim = 128,\n",
    "        )            \n",
    "    ],\n",
    "    user_float_features = [\n",
    "        FloatFeatureConfig(\n",
    "            fid = 6,\n",
    "            padding_val = 0,\n",
    "        ),\n",
    "        FloatFeatureConfig(\n",
    "            fid = 8,\n",
    "            padding_val = 1\n",
    "        )\n",
    "    ],\n",
    "    item_id_list_features = [\n",
    "        IdListFeatureConfig(\n",
    "            fid = 13,\n",
    "            num_embeddings = 1001,\n",
    "            embedding_dim = 64,\n",
    "        ),\n",
    "        IdListFeatureConfig(\n",
    "            fid = 15,\n",
    "            num_embeddings = 10001,\n",
    "            embedding_dim = 128,\n",
    "        )            \n",
    "    ],\n",
    "    item_float_features = [\n",
    "        FloatFeatureConfig(\n",
    "            fid = 17,\n",
    "            padding_val = 0,\n",
    "        ),\n",
    "        FloatFeatureConfig(\n",
    "            fid = 19,\n",
    "            padding_val = 1\n",
    "        )\n",
    "    ]\n",
    ")\n",
    "\n",
    "synthetic_data = SyntheticDataset(\n",
    "    dataset_split = DataSetSplit.TRAIN,\n",
    "    feature_config = feature_config,\n",
    ")"
   ]
  },
  {
   "cell_type": "code",
   "execution_count": 3,
   "id": "ed50042e",
   "metadata": {},
   "outputs": [
    {
     "data": {
      "text/plain": [
       "({'2': (tensor([735,  90, 248, 403, 171, 957, 921, 633,  73, 948,   7, 144, 840, 721,\n",
       "           888, 628, 872, 373, 557], dtype=torch.int32),\n",
       "   tensor([ 0,  7, 12, 12])),\n",
       "  '4': (tensor([ 727, 6847, 4638,  788, 6278, 8330, 4180, 3574, 3003, 8547],\n",
       "          dtype=torch.int32),\n",
       "   tensor([0, 0, 0, 2]))},\n",
       " tensor([[-0.1406, -0.3140],\n",
       "         [-0.3135, -0.3646],\n",
       "         [-0.2842, -0.2584],\n",
       "         [-0.2969,  0.0941]]),\n",
       " {'13': (tensor([701, 774, 785, 160, 845, 536, 943, 454, 700, 190, 478, 465, 517, 791,\n",
       "           948, 860, 156, 290, 353, 160, 562, 839, 229], dtype=torch.int32),\n",
       "   tensor([ 0,  7, 11, 16])),\n",
       "  '15': (tensor([3803, 7441, 2267, 7878, 5870, 1619, 4709, 3269, 3430,  935, 2707, 4190,\n",
       "           6184], dtype=torch.int32),\n",
       "   tensor([ 0,  8,  8, 12]))},\n",
       " tensor([[-0.3519, -0.2478],\n",
       "         [-0.3756,  1.3885],\n",
       "         [-0.1763, -0.4541],\n",
       "         [-0.2459,  3.0867]]),\n",
       " tensor([0.0113, 0.8387, 0.5503, 0.7679]))"
      ]
     },
     "execution_count": 3,
     "metadata": {},
     "output_type": "execute_result"
    }
   ],
   "source": [
    "from torch.utils.data import DataLoader\n",
    "\n",
    "data_loader = DataLoader(synthetic_data, collate_fn=collate_fn, batch_size=4)\n",
    "next(iter(data_loader))"
   ]
  },
  {
   "cell_type": "code",
   "execution_count": 4,
   "id": "c5812770",
   "metadata": {},
   "outputs": [],
   "source": [
    "from model import SparseNNTwoTower\n",
    "\n",
    "model = SparseNNTwoTower(\n",
    "    feature_config = feature_config,\n",
    "    user_sparse_proj_dims = [256, 128],\n",
    "    user_float_proj_dims = [128, 128],\n",
    "    user_overarch_proj_dims = [256, 128],\n",
    "    item_sparse_proj_dims = [256, 128],\n",
    "    item_float_proj_dims = [128, 128],\n",
    "    item_overarch_proj_dims = [256, 128],\n",
    "    output_dim = 128,\n",
    ")"
   ]
  },
  {
   "cell_type": "code",
   "execution_count": null,
   "id": "57d0f189",
   "metadata": {},
   "outputs": [
    {
     "name": "stderr",
     "output_type": "stream",
     "text": [
      "INFO:root:epoch 0, batch 10, loss: 63.6168212890625\n",
      "INFO:root:epoch 0, batch 20, loss: 59.43405532836914\n",
      "INFO:root:epoch 0, batch 30, loss: 64.50531005859375\n",
      "INFO:root:epoch 0, batch 40, loss: 56.27800369262695\n",
      "INFO:root:epoch 0, batch 50, loss: 49.429100036621094\n",
      "INFO:root:epoch 0, batch 60, loss: 54.393646240234375\n",
      "INFO:root:epoch 0, batch 70, loss: 60.784759521484375\n",
      "INFO:root:epoch 0, batch 80, loss: 55.25569534301758\n",
      "INFO:root:epoch 0, batch 90, loss: 53.60392379760742\n",
      "INFO:root:epoch 0, batch 100, loss: 51.56278991699219\n",
      "INFO:root:epoch 0, batch 110, loss: 53.11770248413086\n",
      "INFO:root:epoch 0, batch 120, loss: 62.186859130859375\n",
      "INFO:root:epoch 0, batch 130, loss: 52.91277313232422\n",
      "INFO:root:epoch 0, batch 140, loss: 64.42668151855469\n",
      "INFO:root:epoch 0, batch 150, loss: 50.59214782714844\n",
      "INFO:root:epoch 0, batch 160, loss: 57.41949462890625\n"
     ]
    }
   ],
   "source": [
    "from train import train, test\n",
    "\n",
    "train(model=model, dataset=synthetic_data, batch_size=32, num_epoch=1, verbose_log_every_n=10)"
   ]
  },
  {
   "cell_type": "code",
   "execution_count": null,
   "id": "cdf9abe2",
   "metadata": {},
   "outputs": [],
   "source": [
    "test(model=model, dataset=synthetic_data, batch_size=64)"
   ]
  },
  {
   "cell_type": "code",
   "execution_count": null,
   "id": "3cce3a75",
   "metadata": {},
   "outputs": [],
   "source": []
  }
 ],
 "metadata": {
  "kernelspec": {
   "display_name": "Python 3 (ipykernel)",
   "language": "python",
   "name": "python3"
  },
  "language_info": {
   "codemirror_mode": {
    "name": "ipython",
    "version": 3
   },
   "file_extension": ".py",
   "mimetype": "text/x-python",
   "name": "python",
   "nbconvert_exporter": "python",
   "pygments_lexer": "ipython3",
   "version": "3.7.9"
  }
 },
 "nbformat": 4,
 "nbformat_minor": 5
}
